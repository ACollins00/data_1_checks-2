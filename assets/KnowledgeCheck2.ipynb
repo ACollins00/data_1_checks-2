{
 "cells": [
  {
   "cell_type": "code",
   "execution_count": 28,
   "metadata": {},
   "outputs": [],
   "source": [
    "import pandas as pd\n",
    "import numpy as np"
   ]
  },
  {
   "cell_type": "code",
   "execution_count": 29,
   "metadata": {},
   "outputs": [
    {
     "name": "stdout",
     "output_type": "stream",
     "text": [
      "   Moonday  Tuesday  Wednesdayy  Thursday  Friday  Extra\n",
      "0        1      2.0         NaN         4       5    NaN\n",
      "1        5      4.0         NaN         2       1    NaN\n",
      "2        6      NaN         8.0         9      10    NaN\n",
      "3       10      NaN         8.0         7       6    NaN\n"
     ]
    }
   ],
   "source": [
    "df = pd.read_csv('MessyData - Sheet1.csv')\n",
    "print(df)"
   ]
  },
  {
   "attachments": {},
   "cell_type": "markdown",
   "metadata": {},
   "source": [
    "Created spelling mistakes (Moonday and Wednesdayy) to fix."
   ]
  },
  {
   "cell_type": "code",
   "execution_count": 30,
   "metadata": {},
   "outputs": [
    {
     "data": {
      "text/plain": [
       "Index(['Moonday', 'Tuesday', 'Wednesdayy', 'Thursday', 'Friday', 'Extra'], dtype='object')"
      ]
     },
     "execution_count": 30,
     "metadata": {},
     "output_type": "execute_result"
    }
   ],
   "source": [
    "df.columns"
   ]
  },
  {
   "attachments": {},
   "cell_type": "markdown",
   "metadata": {},
   "source": [
    "Corrected spelling mistakes."
   ]
  },
  {
   "cell_type": "code",
   "execution_count": 31,
   "metadata": {},
   "outputs": [
    {
     "data": {
      "text/plain": [
       "Index(['Monday', 'Tuesday', 'Wednesday', 'Thursday', 'Friday', 'Extra'], dtype='object')"
      ]
     },
     "execution_count": 31,
     "metadata": {},
     "output_type": "execute_result"
    }
   ],
   "source": [
    "fixed_columns = {'Moonday' : 'Monday', \n",
    "                 'Wednesdayy' : 'Wednesday'}\n",
    "\n",
    "df.rename(columns=fixed_columns,inplace=True)\n",
    "df.columns"
   ]
  }
 ],
 "metadata": {
  "kernelspec": {
   "display_name": "Python 3",
   "language": "python",
   "name": "python3"
  },
  "language_info": {
   "codemirror_mode": {
    "name": "ipython",
    "version": 3
   },
   "file_extension": ".py",
   "mimetype": "text/x-python",
   "name": "python",
   "nbconvert_exporter": "python",
   "pygments_lexer": "ipython3",
   "version": "3.10.8"
  },
  "orig_nbformat": 4,
  "vscode": {
   "interpreter": {
    "hash": "d0db3772be48f235906384105bda26646078d54aafc912577ec09fe4fb933e95"
   }
  }
 },
 "nbformat": 4,
 "nbformat_minor": 2
}
