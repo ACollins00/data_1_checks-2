{
 "cells": [
  {
   "cell_type": "code",
   "execution_count": 11,
   "metadata": {},
   "outputs": [],
   "source": [
    "import pandas as pd\n",
    "import numpy as np"
   ]
  },
  {
   "cell_type": "code",
   "execution_count": 14,
   "metadata": {},
   "outputs": [
    {
     "name": "stdout",
     "output_type": "stream",
     "text": [
      "   Moonday  Tuesday  Wednesdayy  Thursday  Friday  Extra\n",
      "0        1      2.0         NaN         4       5    NaN\n",
      "1        5      4.0         NaN         2       1    NaN\n",
      "2        6      NaN         8.0         9      10    NaN\n",
      "3       10      NaN         8.0         7       6    NaN\n"
     ]
    }
   ],
   "source": [
    "df = pd.read_csv('MessyData - Sheet1.csv')\n",
    "print(df)"
   ]
  },
  {
   "cell_type": "code",
   "execution_count": null,
   "metadata": {},
   "outputs": [],
   "source": []
  }
 ],
 "metadata": {
  "kernelspec": {
   "display_name": "Python 3",
   "language": "python",
   "name": "python3"
  },
  "language_info": {
   "codemirror_mode": {
    "name": "ipython",
    "version": 3
   },
   "file_extension": ".py",
   "mimetype": "text/x-python",
   "name": "python",
   "nbconvert_exporter": "python",
   "pygments_lexer": "ipython3",
   "version": "3.10.8"
  },
  "orig_nbformat": 4,
  "vscode": {
   "interpreter": {
    "hash": "d0db3772be48f235906384105bda26646078d54aafc912577ec09fe4fb933e95"
   }
  }
 },
 "nbformat": 4,
 "nbformat_minor": 2
}
